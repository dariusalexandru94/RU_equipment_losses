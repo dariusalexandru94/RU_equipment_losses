{
 "cells": [
  {
   "cell_type": "markdown",
   "id": "0c1c3fed",
   "metadata": {},
   "source": [
    "# Scraping equipment losses with sources"
   ]
  },
  {
   "cell_type": "markdown",
   "id": "5269c28c",
   "metadata": {},
   "source": [
    "The original source of this aggregated data is from this OSINT project: **Attack On Europe: Documenting Russian Equipment Losses During The Russian Invasion Of Ukraine**. Thw website is:https://www.oryxspioenkop.com/2022/02/attack-on-europe-documenting-equipment.html"
   ]
  },
  {
   "cell_type": "markdown",
   "id": "c936a3fa",
   "metadata": {},
   "source": [
    "**I have preferred to scrape this data and rearrange it in a manner that fits my needs.**"
   ]
  },
  {
   "cell_type": "code",
   "execution_count": 1,
   "id": "46bb40ed",
   "metadata": {},
   "outputs": [],
   "source": [
    "from bs4 import BeautifulSoup as bs\n",
    "import requests\n",
    "import urllib.request\n",
    "import re\n",
    "import numpy as np\n",
    "import pandas as pd"
   ]
  },
  {
   "cell_type": "code",
   "execution_count": 2,
   "id": "a5f91336",
   "metadata": {},
   "outputs": [],
   "source": [
    "page = urllib.request.urlopen(\"https://www.oryxspioenkop.com/2022/02/attack-on-europe-documenting-equipment.html\")\n",
    "soup = bs(page)"
   ]
  },
  {
   "cell_type": "code",
   "execution_count": 3,
   "id": "859377dd",
   "metadata": {},
   "outputs": [
    {
     "name": "stdout",
     "output_type": "stream",
     "text": [
      "Tanks (2475, of which destroyed: 1618, damaged: 140, abandoned: 167, captured: 550)\n",
      "Armoured Fighting Vehicles (1042, of which destroyed: 696, damaged: 30, abandoned: 47, captured: 269)\n",
      "Infantry Fighting Vehicles (3007, of which destroyed: 2102, damaged: 117, abandoned: 170, captured: 618)\n",
      "Armoured Personnel Carriers (369, of which destroyed: 249, damaged: 11, abandoned: 17, captured: 92)\n",
      "Mine-Resistant Ambush Protected (MRAP) Vehicles (49, of which destroyed: 35, damaged: 4, abandoned: 1, captured: 9)\n",
      "Infantry Mobility Vehicles (224, of which destroyed: 161, damaged: 8, abandoned: 4, captured: 51)\n",
      "Command Posts And Communications Stations (256, of which destroyed: 167, damaged: 3, abandoned: 2, captured: 84)\n",
      "Engineering Vehicles And Equipment (359, of which destroyed: 181, damaged: 10, abandoned: 43, captured: 125)\n",
      "Self-Propelled Anti-Tank Missile Systems (42, of which destroyed: 18, damaged: 1, abandoned: 4, captured: 19)\n",
      "Artillery Support Vehicles And Equipment (109, of which destroyed: 55, abandoned: 2, captured: 52)\n",
      "Towed Artillery (333, of which destroyed: 192, damaged: 35, abandoned: 5, captured: 101)\n",
      "Self-Propelled Artillery (591, of which destroyed: 445, damaged: 32, abandoned: 7, captured: 107)\n",
      "Multiple Rocket Launchers (303, of which destroyed: 226, damaged: 22, abandoned: 2, captured: 53)\n",
      "Anti-Aircraft Guns (19, of which destroyed: 5, captured: 14)\n",
      "Self-Propelled Anti-Aircraft Guns (25, of which destroyed: 14, damaged: 1, abandoned: 2, captured: 8)\n",
      "Surface-To-Air Missile Systems (176, of which destroyed: 123, damaged: 25, abandoned: 4, captured: 24) \n",
      "Radars (48, of which destroyed: 31, damaged: 5, captured: 9) \n",
      "Jammers And Deception Systems (60, of which destroyed: 45, damaged: 8, captured: 7) \n",
      "Aircraft (93, of which destroyed: 85, damaged: 8)\n",
      "Helicopters (132, of which destroyed: 102, damaged: 28, captured: 2)\n",
      "Unmanned Combat Aerial Vehicles (14, of which destroyed: 11, captured: 3)\n",
      "Reconnaissance Unmanned Aerial Vehicles (306, of which destroyed: 175, captured: 131)\n",
      "Naval Ships and Submarines (16, of which destroyed: 11, damaged: 5)\n",
      "Trucks, Vehicles, and Jeeps (2967, of which destroyed: 2277, damaged: 66, abandoned: 51, captured: 573)\n"
     ]
    }
   ],
   "source": [
    "h3s = soup.find_all('h3')\n",
    "\n",
    "for h3 in h3s[3::]:\n",
    "    print(h3.text)"
   ]
  },
  {
   "cell_type": "markdown",
   "id": "752c9712",
   "metadata": {},
   "source": [
    "**I have to access and scrape each category separately.**"
   ]
  },
  {
   "cell_type": "code",
   "execution_count": 4,
   "id": "3d7e2ce5",
   "metadata": {},
   "outputs": [],
   "source": [
    "ul = soup.find_all(\"ul\") # all categories"
   ]
  },
  {
   "cell_type": "markdown",
   "id": "32596baf",
   "metadata": {},
   "source": [
    "## Tanks"
   ]
  },
  {
   "cell_type": "code",
   "execution_count": 5,
   "id": "aae63434",
   "metadata": {},
   "outputs": [],
   "source": [
    "tanks_ = ul[1]\n",
    "\n",
    "for i in tanks_:\n",
    "    tank_model = tanks_.find_all('li')\n",
    "    \n",
    "model = []\n",
    "photo_links = []\n",
    "state = []\n",
    "\n",
    "for i in range(len(tank_model)):\n",
    "    links = tank_model[i].find_all('a')\n",
    "    \n",
    "    for link in links:\n",
    "        model_num = tank_model[i].text[1::].split(\":\")[0]\n",
    "        model_num = model_num.replace('\\xa0', ' ')\n",
    "        href = link.get('href')\n",
    "        text = link.get_text(strip=True)[1:]\n",
    "        \n",
    "        if href:\n",
    "            photo_links.append(href)\n",
    "            state.append(text)\n",
    "            model.append(model_num) \n",
    "            \n",
    "tanks = pd.DataFrame({'model' : model, 'state': state, 'photo_links': photo_links})"
   ]
  },
  {
   "cell_type": "markdown",
   "id": "3b74745d",
   "metadata": {},
   "source": [
    "## Automating the process for the remaining 23 categories"
   ]
  },
  {
   "cell_type": "code",
   "execution_count": 6,
   "id": "fab6863e",
   "metadata": {},
   "outputs": [],
   "source": [
    "category_data = {}\n",
    "\n",
    "# names of objects (and dataframes)\n",
    "bs4_objects = {\n",
    "    \"armoured\": 2,\n",
    "    \"IFV\": 3,\n",
    "    \"APC\": 4,\n",
    "    \"MRAP\": 5,\n",
    "    \"IMV\": 6,\n",
    "    \"cmd_comms\": 7,\n",
    "    \"engineering\": 8,\n",
    "    \"ATGM\": 9,\n",
    "    \"arty_support\": 10,\n",
    "    \"arty_towed\": 11,\n",
    "    \"arty_SP\": 12,\n",
    "    \"MLRS\": 13,\n",
    "    \"aa_guns\": 14,\n",
    "    \"aa_gunsSP\": 15,\n",
    "    \"sam\": 16,\n",
    "    \"radars\": 17,\n",
    "    \"jammers\": 19,\n",
    "    \"aircrafts\": 19,\n",
    "    \"helicopters\": 20,\n",
    "    \"UAV\": 21,\n",
    "    \"rUAV\": 22,\n",
    "    \"navy\": 23,\n",
    "    \"auto\": 24\n",
    "}\n",
    "\n",
    "# loop and extract\n",
    "for category, ul_index in bs4_objects.items():\n",
    "    model = []\n",
    "    photo_links = []\n",
    "    state = []\n",
    "\n",
    "    ul_element = ul[ul_index]\n",
    "    cats = ul_element.find_all('li')\n",
    "\n",
    "    for cat in cats:\n",
    "        links = cat.find_all('a')\n",
    "\n",
    "        for link in links:\n",
    "            model_num = cat.text[1:].split(\":\")[0].replace('\\xa0', ' ')\n",
    "            href = link.get('href')\n",
    "            text = link.get_text(strip=True)[1:]\n",
    "\n",
    "            if href:\n",
    "                photo_links.append(href)\n",
    "                state.append(text)\n",
    "                model.append(model_num)\n",
    "\n",
    "    # genetaring a dataframe for each category + storing in dict\n",
    "    category_df = pd.DataFrame({'model': model, 'state': state, 'photo_links': photo_links})\n",
    "    category_data[category] = category_df"
   ]
  },
  {
   "cell_type": "markdown",
   "id": "e82e162e",
   "metadata": {},
   "source": [
    "# Data transformation & quality assessment"
   ]
  },
  {
   "cell_type": "code",
   "execution_count": 7,
   "id": "a09bf386",
   "metadata": {},
   "outputs": [],
   "source": [
    "armoured = category_data['armoured']\n",
    "IFV = category_data['IFV']\n",
    "APC= category_data['APC']\n",
    "MRAP= category_data['MRAP']\n",
    "IMV= category_data['IMV']\n",
    "cmd_comms= category_data['cmd_comms']\n",
    "engineering= category_data['engineering']\n",
    "ATGM= category_data['ATGM']\n",
    "arty_support= category_data['arty_support']\n",
    "arty_towed= category_data['arty_towed']\n",
    "arty_SP= category_data['arty_SP']\n",
    "MLRS= category_data['MLRS']\n",
    "aa_guns= category_data['aa_guns']\n",
    "aa_gunsSP= category_data['aa_gunsSP']\n",
    "sam= category_data['sam']\n",
    "radars= category_data['radars']\n",
    "jammers= category_data['jammers']\n",
    "aircrafts= category_data['aircrafts']\n",
    "helicopters= category_data['helicopters']\n",
    "UAV= category_data['UAV']\n",
    "rUAV= category_data['rUAV']\n",
    "navy= category_data['navy']\n",
    "auto= category_data['auto']"
   ]
  },
  {
   "cell_type": "markdown",
   "id": "fb75ca53",
   "metadata": {},
   "source": [
    "## Functions for preprocessing the data"
   ]
  },
  {
   "cell_type": "code",
   "execution_count": 8,
   "id": "48ec57c7",
   "metadata": {},
   "outputs": [],
   "source": [
    "# remove number from the begining of the string\n",
    "\n",
    "def func1(record):\n",
    "    result = re.sub(r'^\\d+', '', record)\n",
    "    return result\n",
    "\n",
    "\n",
    "# remove \")\" and keep the last word\n",
    "\n",
    "def func2(record):\n",
    "    record = re.sub(r'\\)$', '', record)  \n",
    "    words = re.split(r'[ ,]+', record)  \n",
    "    \n",
    "    digit_words = [word for word in words if re.match(r'^\\d+$', word)]\n",
    "\n",
    "    if not digit_words:\n",
    "        result = words[-1] \n",
    "    else:\n",
    "        non_digit_words = [word for word in words if not re.match(r'^\\d+$', word) and word != \"and\"]\n",
    "        digit_count = len(digit_words)\n",
    "        if digit_count == 1:\n",
    "            result = non_digit_words[-1]\n",
    "        else:\n",
    "            result = f'{digit_count} x {non_digit_words[-1]}'\n",
    "\n",
    "    return result\n",
    "\n",
    "# just for \"arty_support\" + \"auto\"\n",
    "def func3(input_string):\n",
    "    match = re.search(r'(\\w+)\\W*$', input_string)\n",
    "    if match:\n",
    "        return match.group(1)\n",
    "    else:\n",
    "        return None\n",
    "\n",
    "# when counting the values of state, there is an instance \"abanoned\" instead of \"abandoned\"\n",
    "\n",
    "def replace_state(state):\n",
    "    if state == 'abanonded':\n",
    "        return 'abandoned'\n",
    "    else:\n",
    "        return state"
   ]
  },
  {
   "cell_type": "markdown",
   "id": "5556291b",
   "metadata": {},
   "source": [
    "### tanks preprocessing"
   ]
  },
  {
   "cell_type": "code",
   "execution_count": 9,
   "id": "d5f9a0c2",
   "metadata": {},
   "outputs": [],
   "source": [
    "# Unknown T-54/55 (1, destroyed) <- removing this (1, destroyed)\n",
    "\n",
    "def replace_tmodel(model):\n",
    "    if model == ' Unknown T-54/55 (1, destroyed)':\n",
    "        return 'Unknown T-54/55'\n",
    "    else:\n",
    "        return model\n",
    "    \n",
    "# replace \"Obr.\" with \"Mk\" from \"modification\"....in the context of an equipment model, \"Obr. ####\" stands \n",
    "# for \"обр. 2016\" in Russian, which translates to \"modification 2016\" in English\n",
    "\n",
    "def replace_mk(record):\n",
    "    result = re.sub(r'Obr\\.', 'Mk.', record)\n",
    "    return result"
   ]
  },
  {
   "cell_type": "markdown",
   "id": "49f1e492",
   "metadata": {},
   "source": [
    "### towed artilert preprocessing"
   ]
  },
  {
   "cell_type": "code",
   "execution_count": 10,
   "id": "837dc17a",
   "metadata": {},
   "outputs": [],
   "source": [
    "# remove \")\" and keep the last word\n",
    "\n",
    "def func_ta(record):\n",
    "    result1 = re.sub(r'\\)', '', record) # remove \")\"\n",
    "    #result2 = re.findall(r'\\b\\w+\\b$', result1)[0] # keep just the last word\n",
    "    words = result1.split()  \n",
    "    if words:\n",
    "        return words[-1]  \n",
    "    else:\n",
    "        return None \n",
    "    return words[-1]"
   ]
  },
  {
   "cell_type": "markdown",
   "id": "1ce7f461",
   "metadata": {},
   "source": [
    "## Applying Functions"
   ]
  },
  {
   "cell_type": "code",
   "execution_count": 11,
   "id": "998b2b82",
   "metadata": {},
   "outputs": [],
   "source": [
    "tanks['model'] = tanks['model'].apply(func1)\n",
    "tanks['state'] = tanks['state'].apply(func2)\n",
    "tanks['state'] = tanks['state'].apply(replace_state)\n",
    "tanks['model'] = tanks['model'].apply(replace_tmodel)\n",
    "tanks['model'] = tanks['model'].apply(replace_mk)"
   ]
  },
  {
   "cell_type": "code",
   "execution_count": 12,
   "id": "ca177799",
   "metadata": {},
   "outputs": [],
   "source": [
    "armoured['model'] = armoured['model'].apply(func1)\n",
    "armoured['state'] = armoured['state'].apply(func2)"
   ]
  },
  {
   "cell_type": "code",
   "execution_count": 13,
   "id": "741f8b7f",
   "metadata": {},
   "outputs": [],
   "source": [
    "IFV['model'] = IFV['model'].apply(func1)\n",
    "IFV['state'] = IFV['state'].apply(func2)"
   ]
  },
  {
   "cell_type": "code",
   "execution_count": 14,
   "id": "9b373cfe",
   "metadata": {},
   "outputs": [],
   "source": [
    "APC['model'] = APC['model'].apply(func1)\n",
    "APC['state'] = APC['state'].apply(func2)"
   ]
  },
  {
   "cell_type": "code",
   "execution_count": 15,
   "id": "b46a3f31",
   "metadata": {},
   "outputs": [],
   "source": [
    "MRAP['model'] = MRAP['model'].apply(func1)\n",
    "MRAP['state'] = MRAP['state'].apply(func2)"
   ]
  },
  {
   "cell_type": "code",
   "execution_count": 16,
   "id": "c21bd7d2",
   "metadata": {},
   "outputs": [],
   "source": [
    "IMV['model'] = IMV['model'].apply(func1)\n",
    "IMV['state'] = IMV['state'].apply(func2)"
   ]
  },
  {
   "cell_type": "code",
   "execution_count": 17,
   "id": "5482a9aa",
   "metadata": {},
   "outputs": [],
   "source": [
    "cmd_comms['model'] = cmd_comms['model'].apply(func1)\n",
    "cmd_comms['state'] = cmd_comms['state'].apply(func2)"
   ]
  },
  {
   "cell_type": "code",
   "execution_count": 18,
   "id": "0413d664",
   "metadata": {},
   "outputs": [],
   "source": [
    "engineering['model'] = engineering['model'].apply(func1)\n",
    "engineering['state'] = engineering['state'].apply(func2)"
   ]
  },
  {
   "cell_type": "code",
   "execution_count": 19,
   "id": "ad49c053",
   "metadata": {},
   "outputs": [],
   "source": [
    "ATGM['model'] = ATGM['model'].apply(func1)\n",
    "ATGM['state'] = ATGM['state'].apply(func2)"
   ]
  },
  {
   "cell_type": "code",
   "execution_count": 20,
   "id": "7c9fc5f0",
   "metadata": {},
   "outputs": [],
   "source": [
    "arty_support['model'] = arty_support['model'].apply(func1)\n",
    "arty_support['state'] = arty_support['state'].apply(func2)"
   ]
  },
  {
   "cell_type": "code",
   "execution_count": 21,
   "id": "636e4871",
   "metadata": {},
   "outputs": [],
   "source": [
    "arty_towed['model'] = arty_towed['model'].apply(func1)\n",
    "arty_towed['state'] = arty_towed['state'].apply(func_ta) # custom\n",
    "arty_towed['state'] = arty_towed['state'].apply(lambda state: 'damaged' if state == 'aged' else state) # custom preprocessing"
   ]
  },
  {
   "cell_type": "code",
   "execution_count": 22,
   "id": "60bed552",
   "metadata": {},
   "outputs": [],
   "source": [
    "arty_SP['model'] = arty_SP['model'].apply(func1)\n",
    "arty_SP['state'] = arty_SP['state'].apply(func2)"
   ]
  },
  {
   "cell_type": "code",
   "execution_count": 23,
   "id": "0f9118e9",
   "metadata": {},
   "outputs": [],
   "source": [
    "MLRS['model'] = MLRS['model'].apply(func1)\n",
    "MLRS['state'] = MLRS['state'].apply(func2)"
   ]
  },
  {
   "cell_type": "code",
   "execution_count": 24,
   "id": "a960a4cc",
   "metadata": {},
   "outputs": [],
   "source": [
    "aa_guns['model'] = aa_guns['model'].apply(func1)\n",
    "aa_guns['state'] = aa_guns['state'].apply(func2)"
   ]
  },
  {
   "cell_type": "code",
   "execution_count": 25,
   "id": "c43d14d9",
   "metadata": {},
   "outputs": [],
   "source": [
    "aa_gunsSP['model'] = aa_gunsSP['model'].apply(func1)\n",
    "aa_gunsSP['state'] = aa_gunsSP['state'].apply(func2)"
   ]
  },
  {
   "cell_type": "code",
   "execution_count": 26,
   "id": "6a5a4ed7",
   "metadata": {},
   "outputs": [],
   "source": [
    "sam['model'] = sam['model'].apply(func1)\n",
    "sam['state'] = sam['state'].apply(func2)"
   ]
  },
  {
   "cell_type": "code",
   "execution_count": 27,
   "id": "7b5df1b9",
   "metadata": {},
   "outputs": [],
   "source": [
    "radars['model'] = radars['model'].apply(func1)\n",
    "radars['state'] = radars['state'].apply(func2)"
   ]
  },
  {
   "cell_type": "code",
   "execution_count": 28,
   "id": "1e64697a",
   "metadata": {},
   "outputs": [],
   "source": [
    "jammers['model'] = jammers['model'].apply(func1)\n",
    "jammers['state'] = jammers['state'].apply(func2)"
   ]
  },
  {
   "cell_type": "code",
   "execution_count": 29,
   "id": "b38dae1e",
   "metadata": {},
   "outputs": [],
   "source": [
    "aircrafts['model'] = aircrafts['model'].apply(func1)\n",
    "aircrafts['state'] = aircrafts['state'].apply(func2)"
   ]
  },
  {
   "cell_type": "code",
   "execution_count": 30,
   "id": "4fbc6386",
   "metadata": {},
   "outputs": [],
   "source": [
    "helicopters['model'] = helicopters['model'].apply(func1)\n",
    "helicopters['state'] = helicopters['state'].apply(func2)"
   ]
  },
  {
   "cell_type": "code",
   "execution_count": 31,
   "id": "47dbc242",
   "metadata": {},
   "outputs": [],
   "source": [
    "UAV['model'] = UAV['model'].apply(func1)\n",
    "UAV['state'] = UAV['state'].apply(func2)"
   ]
  },
  {
   "cell_type": "code",
   "execution_count": 32,
   "id": "f4c657b8",
   "metadata": {},
   "outputs": [],
   "source": [
    "rUAV['model'] = rUAV['model'].apply(func1)\n",
    "rUAV['state'] = rUAV['state'].apply(func2)"
   ]
  },
  {
   "cell_type": "code",
   "execution_count": 33,
   "id": "8037fcd9",
   "metadata": {},
   "outputs": [],
   "source": [
    "navy['model'] = navy['model'].apply(func1)\n",
    "navy['state'] = navy['state'].apply(func2)"
   ]
  },
  {
   "cell_type": "code",
   "execution_count": 34,
   "id": "5a005007",
   "metadata": {},
   "outputs": [],
   "source": [
    "auto['model'] = auto['model'].apply(func1)\n",
    "auto['state'] = auto['state'].apply(func2)"
   ]
  },
  {
   "cell_type": "markdown",
   "id": "f6b6ac6e",
   "metadata": {},
   "source": [
    "## Reshaping"
   ]
  },
  {
   "cell_type": "markdown",
   "id": "55802410",
   "metadata": {},
   "source": [
    "I want to aggregate the data in another manner. For example, these categories ('armoured', 'IFV', 'APC', 'MRAP', 'IMV') will become \"Infantry vehicles.\" Artillery support, self-propelled artillery, and towed artillery will become \"artillery,\" and so on."
   ]
  },
  {
   "cell_type": "markdown",
   "id": "28605fbe",
   "metadata": {},
   "source": [
    "### Infantry vehicles"
   ]
  },
  {
   "cell_type": "code",
   "execution_count": 35,
   "id": "52ffe240",
   "metadata": {},
   "outputs": [],
   "source": [
    "# categories\n",
    "category_names = ['armoured', 'IFV', 'APC', 'MRAP', 'IMV']\n",
    "\n",
    "# creating a dictionary to hold dataframes with category names as keys\n",
    "category_dataframes = dict(zip(category_names, [armoured, IFV, APC, MRAP, IMV])) \n",
    "\n",
    "# adding 'category' column to each df and concatenate\n",
    "infantry_vehicles = pd.concat([df.assign(category=category) for category, df in category_dataframes.items()], ignore_index=True)"
   ]
  },
  {
   "cell_type": "markdown",
   "id": "8156a5b3",
   "metadata": {},
   "source": [
    "### Artillery"
   ]
  },
  {
   "cell_type": "code",
   "execution_count": 37,
   "id": "e0fe4565",
   "metadata": {},
   "outputs": [],
   "source": [
    "category_names = ['towed', 'support', 'self propelled']\n",
    "\n",
    "category_dataframes = dict(zip(category_names, [arty_support, arty_towed, arty_SP]))\n",
    "\n",
    "artillery = pd.concat([df.assign(category=category) for category, df in category_dataframes.items()], ignore_index=True)"
   ]
  },
  {
   "cell_type": "markdown",
   "id": "3f260366",
   "metadata": {},
   "source": [
    "### Anti Aircraft"
   ]
  },
  {
   "cell_type": "code",
   "execution_count": 39,
   "id": "629ade22",
   "metadata": {},
   "outputs": [],
   "source": [
    "category_names = ['anti aircraft gun', 'self propelled AA', 'surface-to-air missile system']\n",
    "\n",
    "category_dataframes = dict(zip(category_names, [aa_guns, aa_gunsSP, sam]))\n",
    "\n",
    "AA = pd.concat([df.assign(category=category) for category, df in category_dataframes.items()], ignore_index=True)"
   ]
  },
  {
   "cell_type": "markdown",
   "id": "b5b833e6",
   "metadata": {},
   "source": [
    "### UAVs"
   ]
  },
  {
   "cell_type": "code",
   "execution_count": 41,
   "id": "1c5a1c64",
   "metadata": {},
   "outputs": [],
   "source": [
    "category_names = ['combat UAV', 'reconnaissance UAV']\n",
    "\n",
    "category_dataframes = dict(zip(category_names, [UAV, rUAV]))\n",
    "\n",
    "UAV = pd.concat([df.assign(category=category) for category, df in category_dataframes.items()], ignore_index=True)"
   ]
  },
  {
   "cell_type": "markdown",
   "id": "b28fa939",
   "metadata": {},
   "source": [
    "### Creating the final dataset"
   ]
  },
  {
   "cell_type": "code",
   "execution_count": 43,
   "id": "f9bc681d",
   "metadata": {},
   "outputs": [],
   "source": [
    "tanks['category'] = 'tank'\n",
    "cmd_comms['category'] = 'C2 vehicle'\n",
    "engineering['category'] = 'engineering'\n",
    "ATGM['category'] = 'anti-tank guided missile'\n",
    "MLRS['category'] = 'MLRS'\n",
    "radars['category'] = 'radar'\n",
    "jammers['category'] = 'jammer'\n",
    "aircrafts['category'] = 'aircraft'\n",
    "helicopters['category'] = 'helicopter'\n",
    "navy['category'] = 'navy'\n",
    "auto['category'] = 'auto'"
   ]
  },
  {
   "cell_type": "code",
   "execution_count": 44,
   "id": "8cc53b65",
   "metadata": {},
   "outputs": [],
   "source": [
    "ru_equipment1 = pd.concat([tanks,infantry_vehicles, artillery, AA, UAV, cmd_comms, engineering, ATGM, MLRS, radars, jammers, \n",
    "                          aircrafts, helicopters, navy, auto])"
   ]
  },
  {
   "cell_type": "code",
   "execution_count": 45,
   "id": "7cce3641",
   "metadata": {},
   "outputs": [
    {
     "data": {
      "text/html": [
       "<div>\n",
       "<style scoped>\n",
       "    .dataframe tbody tr th:only-of-type {\n",
       "        vertical-align: middle;\n",
       "    }\n",
       "\n",
       "    .dataframe tbody tr th {\n",
       "        vertical-align: top;\n",
       "    }\n",
       "\n",
       "    .dataframe thead th {\n",
       "        text-align: right;\n",
       "    }\n",
       "</style>\n",
       "<table border=\"1\" class=\"dataframe\">\n",
       "  <thead>\n",
       "    <tr style=\"text-align: right;\">\n",
       "      <th></th>\n",
       "      <th>model</th>\n",
       "      <th>state</th>\n",
       "      <th>photo_links</th>\n",
       "      <th>category</th>\n",
       "    </tr>\n",
       "  </thead>\n",
       "  <tbody>\n",
       "    <tr>\n",
       "      <th>0</th>\n",
       "      <td>Unknown T-54/55</td>\n",
       "      <td>destroyed</td>\n",
       "      <td>https://twitter.com/CalibreObscura/status/1670...</td>\n",
       "      <td>tank</td>\n",
       "    </tr>\n",
       "    <tr>\n",
       "      <th>1</th>\n",
       "      <td>T-55A</td>\n",
       "      <td>damaged</td>\n",
       "      <td>https://i.postimg.cc/jdFBJdQb/1027-t55-dam-05-...</td>\n",
       "      <td>tank</td>\n",
       "    </tr>\n",
       "    <tr>\n",
       "      <th>2</th>\n",
       "      <td>T-62 Mk. 1967</td>\n",
       "      <td>captured</td>\n",
       "      <td>https://i.postimg.cc/yxw0SFD6/1001-T-62-Obr-19...</td>\n",
       "      <td>tank</td>\n",
       "    </tr>\n",
       "    <tr>\n",
       "      <th>3</th>\n",
       "      <td>T-62M</td>\n",
       "      <td>destroyed</td>\n",
       "      <td>https://twitter.com/UAWeapons/status/154479707...</td>\n",
       "      <td>tank</td>\n",
       "    </tr>\n",
       "    <tr>\n",
       "      <th>4</th>\n",
       "      <td>T-62M</td>\n",
       "      <td>destroyed</td>\n",
       "      <td>https://i.postimg.cc/X72RXDmM/1024-t62m-destr-...</td>\n",
       "      <td>tank</td>\n",
       "    </tr>\n",
       "    <tr>\n",
       "      <th>...</th>\n",
       "      <td>...</td>\n",
       "      <td>...</td>\n",
       "      <td>...</td>\n",
       "      <td>...</td>\n",
       "    </tr>\n",
       "    <tr>\n",
       "      <th>2594</th>\n",
       "      <td>(Unknown) vehicle</td>\n",
       "      <td>destroyed</td>\n",
       "      <td>https://i.postimg.cc/05Tnz61Z/1025-unkn-vehicl...</td>\n",
       "      <td>auto</td>\n",
       "    </tr>\n",
       "    <tr>\n",
       "      <th>2595</th>\n",
       "      <td>(Unknown) vehicle</td>\n",
       "      <td>destroyed</td>\n",
       "      <td>https://i.postimg.cc/sXQx68zP/1018-unkn-vehicl...</td>\n",
       "      <td>auto</td>\n",
       "    </tr>\n",
       "    <tr>\n",
       "      <th>2596</th>\n",
       "      <td>(Unknown) vehicle</td>\n",
       "      <td>3 x damaged</td>\n",
       "      <td>https://twitter.com/UAWeapons/status/151422993...</td>\n",
       "      <td>auto</td>\n",
       "    </tr>\n",
       "    <tr>\n",
       "      <th>2597</th>\n",
       "      <td>(Unknown) vehicle</td>\n",
       "      <td>damaged</td>\n",
       "      <td>https://twitter.com/UAWeapons/status/151532766...</td>\n",
       "      <td>auto</td>\n",
       "    </tr>\n",
       "    <tr>\n",
       "      <th>2598</th>\n",
       "      <td>(Unknown) vehicle</td>\n",
       "      <td>2 x damaged</td>\n",
       "      <td>https://twitter.com/UAWeapons/status/152307037...</td>\n",
       "      <td>auto</td>\n",
       "    </tr>\n",
       "  </tbody>\n",
       "</table>\n",
       "<p>12054 rows × 4 columns</p>\n",
       "</div>"
      ],
      "text/plain": [
       "                   model        state  \\\n",
       "0        Unknown T-54/55    destroyed   \n",
       "1                  T-55A      damaged   \n",
       "2          T-62 Mk. 1967     captured   \n",
       "3                  T-62M    destroyed   \n",
       "4                  T-62M    destroyed   \n",
       "...                  ...          ...   \n",
       "2594   (Unknown) vehicle    destroyed   \n",
       "2595   (Unknown) vehicle    destroyed   \n",
       "2596   (Unknown) vehicle  3 x damaged   \n",
       "2597   (Unknown) vehicle      damaged   \n",
       "2598   (Unknown) vehicle  2 x damaged   \n",
       "\n",
       "                                            photo_links category  \n",
       "0     https://twitter.com/CalibreObscura/status/1670...     tank  \n",
       "1     https://i.postimg.cc/jdFBJdQb/1027-t55-dam-05-...     tank  \n",
       "2     https://i.postimg.cc/yxw0SFD6/1001-T-62-Obr-19...     tank  \n",
       "3     https://twitter.com/UAWeapons/status/154479707...     tank  \n",
       "4     https://i.postimg.cc/X72RXDmM/1024-t62m-destr-...     tank  \n",
       "...                                                 ...      ...  \n",
       "2594  https://i.postimg.cc/05Tnz61Z/1025-unkn-vehicl...     auto  \n",
       "2595  https://i.postimg.cc/sXQx68zP/1018-unkn-vehicl...     auto  \n",
       "2596  https://twitter.com/UAWeapons/status/151422993...     auto  \n",
       "2597  https://twitter.com/UAWeapons/status/151532766...     auto  \n",
       "2598  https://twitter.com/UAWeapons/status/152307037...     auto  \n",
       "\n",
       "[12054 rows x 4 columns]"
      ]
     },
     "execution_count": 45,
     "metadata": {},
     "output_type": "execute_result"
    }
   ],
   "source": [
    "ru_equipment1"
   ]
  },
  {
   "cell_type": "code",
   "execution_count": 46,
   "id": "d82d577e",
   "metadata": {},
   "outputs": [],
   "source": [
    "expanded_rows = []\n",
    "\n",
    "for index, row in ru_equipment1.iterrows():\n",
    "    state_value = row['state']\n",
    "    \n",
    "    # Check if state_value is not None\n",
    "    if state_value is not None:\n",
    "        # Split the state_value on ' x ' and check if it contains ' x ' and a number\n",
    "        parts = state_value.split(' x ')\n",
    "        \n",
    "        if len(parts) == 2 and parts[0].isdigit():\n",
    "            num_repeats = int(parts[0])\n",
    "            state = parts[1]\n",
    "            \n",
    "            # Create new rows and append them to the list\n",
    "            for _ in range(num_repeats):\n",
    "                new_row = row.copy()\n",
    "                new_row['state'] = state\n",
    "                expanded_rows.append(new_row)\n",
    "        else:\n",
    "            expanded_rows.append(row)\n",
    "    else:\n",
    "        expanded_rows.append(row)\n",
    "\n",
    "# Create a new DataFrame from the expanded rows\n",
    "ru_equipment = pd.DataFrame(expanded_rows)"
   ]
  },
  {
   "cell_type": "code",
   "execution_count": 47,
   "id": "43e1d3c9",
   "metadata": {},
   "outputs": [
    {
     "data": {
      "text/html": [
       "<div>\n",
       "<style scoped>\n",
       "    .dataframe tbody tr th:only-of-type {\n",
       "        vertical-align: middle;\n",
       "    }\n",
       "\n",
       "    .dataframe tbody tr th {\n",
       "        vertical-align: top;\n",
       "    }\n",
       "\n",
       "    .dataframe thead th {\n",
       "        text-align: right;\n",
       "    }\n",
       "</style>\n",
       "<table border=\"1\" class=\"dataframe\">\n",
       "  <thead>\n",
       "    <tr style=\"text-align: right;\">\n",
       "      <th></th>\n",
       "      <th>model</th>\n",
       "      <th>state</th>\n",
       "      <th>photo_links</th>\n",
       "      <th>category</th>\n",
       "    </tr>\n",
       "  </thead>\n",
       "  <tbody>\n",
       "    <tr>\n",
       "      <th>0</th>\n",
       "      <td>Unknown T-54/55</td>\n",
       "      <td>destroyed</td>\n",
       "      <td>https://twitter.com/CalibreObscura/status/1670...</td>\n",
       "      <td>tank</td>\n",
       "    </tr>\n",
       "    <tr>\n",
       "      <th>1</th>\n",
       "      <td>T-55A</td>\n",
       "      <td>damaged</td>\n",
       "      <td>https://i.postimg.cc/jdFBJdQb/1027-t55-dam-05-...</td>\n",
       "      <td>tank</td>\n",
       "    </tr>\n",
       "    <tr>\n",
       "      <th>2</th>\n",
       "      <td>T-62 Mk. 1967</td>\n",
       "      <td>captured</td>\n",
       "      <td>https://i.postimg.cc/yxw0SFD6/1001-T-62-Obr-19...</td>\n",
       "      <td>tank</td>\n",
       "    </tr>\n",
       "    <tr>\n",
       "      <th>3</th>\n",
       "      <td>T-62M</td>\n",
       "      <td>destroyed</td>\n",
       "      <td>https://twitter.com/UAWeapons/status/154479707...</td>\n",
       "      <td>tank</td>\n",
       "    </tr>\n",
       "    <tr>\n",
       "      <th>4</th>\n",
       "      <td>T-62M</td>\n",
       "      <td>destroyed</td>\n",
       "      <td>https://i.postimg.cc/X72RXDmM/1024-t62m-destr-...</td>\n",
       "      <td>tank</td>\n",
       "    </tr>\n",
       "    <tr>\n",
       "      <th>...</th>\n",
       "      <td>...</td>\n",
       "      <td>...</td>\n",
       "      <td>...</td>\n",
       "      <td>...</td>\n",
       "    </tr>\n",
       "    <tr>\n",
       "      <th>2596</th>\n",
       "      <td>(Unknown) vehicle</td>\n",
       "      <td>damaged</td>\n",
       "      <td>https://twitter.com/UAWeapons/status/151422993...</td>\n",
       "      <td>auto</td>\n",
       "    </tr>\n",
       "    <tr>\n",
       "      <th>2596</th>\n",
       "      <td>(Unknown) vehicle</td>\n",
       "      <td>damaged</td>\n",
       "      <td>https://twitter.com/UAWeapons/status/151422993...</td>\n",
       "      <td>auto</td>\n",
       "    </tr>\n",
       "    <tr>\n",
       "      <th>2597</th>\n",
       "      <td>(Unknown) vehicle</td>\n",
       "      <td>damaged</td>\n",
       "      <td>https://twitter.com/UAWeapons/status/151532766...</td>\n",
       "      <td>auto</td>\n",
       "    </tr>\n",
       "    <tr>\n",
       "      <th>2598</th>\n",
       "      <td>(Unknown) vehicle</td>\n",
       "      <td>damaged</td>\n",
       "      <td>https://twitter.com/UAWeapons/status/152307037...</td>\n",
       "      <td>auto</td>\n",
       "    </tr>\n",
       "    <tr>\n",
       "      <th>2598</th>\n",
       "      <td>(Unknown) vehicle</td>\n",
       "      <td>damaged</td>\n",
       "      <td>https://twitter.com/UAWeapons/status/152307037...</td>\n",
       "      <td>auto</td>\n",
       "    </tr>\n",
       "  </tbody>\n",
       "</table>\n",
       "<p>13025 rows × 4 columns</p>\n",
       "</div>"
      ],
      "text/plain": [
       "                   model      state  \\\n",
       "0        Unknown T-54/55  destroyed   \n",
       "1                  T-55A    damaged   \n",
       "2          T-62 Mk. 1967   captured   \n",
       "3                  T-62M  destroyed   \n",
       "4                  T-62M  destroyed   \n",
       "...                  ...        ...   \n",
       "2596   (Unknown) vehicle    damaged   \n",
       "2596   (Unknown) vehicle    damaged   \n",
       "2597   (Unknown) vehicle    damaged   \n",
       "2598   (Unknown) vehicle    damaged   \n",
       "2598   (Unknown) vehicle    damaged   \n",
       "\n",
       "                                            photo_links category  \n",
       "0     https://twitter.com/CalibreObscura/status/1670...     tank  \n",
       "1     https://i.postimg.cc/jdFBJdQb/1027-t55-dam-05-...     tank  \n",
       "2     https://i.postimg.cc/yxw0SFD6/1001-T-62-Obr-19...     tank  \n",
       "3     https://twitter.com/UAWeapons/status/154479707...     tank  \n",
       "4     https://i.postimg.cc/X72RXDmM/1024-t62m-destr-...     tank  \n",
       "...                                                 ...      ...  \n",
       "2596  https://twitter.com/UAWeapons/status/151422993...     auto  \n",
       "2596  https://twitter.com/UAWeapons/status/151422993...     auto  \n",
       "2597  https://twitter.com/UAWeapons/status/151532766...     auto  \n",
       "2598  https://twitter.com/UAWeapons/status/152307037...     auto  \n",
       "2598  https://twitter.com/UAWeapons/status/152307037...     auto  \n",
       "\n",
       "[13025 rows x 4 columns]"
      ]
     },
     "execution_count": 47,
     "metadata": {},
     "output_type": "execute_result"
    }
   ],
   "source": [
    "ru_equipment"
   ]
  },
  {
   "cell_type": "code",
   "execution_count": 54,
   "id": "d29240ab",
   "metadata": {},
   "outputs": [],
   "source": [
    "ru_equipment.to_csv(r\"C:\\Users\\Asus\\Desktop\\Py\\PROJECTS\\__Ru\\ru harvesting\\ru_equipment.csv\")"
   ]
  },
  {
   "cell_type": "code",
   "execution_count": null,
   "id": "21d6d521",
   "metadata": {},
   "outputs": [],
   "source": []
  }
 ],
 "metadata": {
  "kernelspec": {
   "display_name": "Python 3 (ipykernel)",
   "language": "python",
   "name": "python3"
  },
  "language_info": {
   "codemirror_mode": {
    "name": "ipython",
    "version": 3
   },
   "file_extension": ".py",
   "mimetype": "text/x-python",
   "name": "python",
   "nbconvert_exporter": "python",
   "pygments_lexer": "ipython3",
   "version": "3.9.12"
  }
 },
 "nbformat": 4,
 "nbformat_minor": 5
}
